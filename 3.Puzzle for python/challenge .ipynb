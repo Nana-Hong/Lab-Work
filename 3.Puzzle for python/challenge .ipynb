{
 "cells": [
  {
   "cell_type": "code",
   "execution_count": 72,
   "id": "2c27c82d",
   "metadata": {},
   "outputs": [
    {
     "name": "stdout",
     "output_type": "stream",
     "text": [
      "D\n"
     ]
    }
   ],
   "source": [
    "import datetime\n",
    "import string\n",
    "\n",
    "# define date\n",
    "date1 = datetime.date(2023, 2, 24)\n",
    "date2 = datetime.date(2023, 2, 27)\n",
    "\n",
    "# difference between 2 dates, and get remainder\n",
    "delta = (date2 - date1).days\n",
    "remainder = delta % 26\n",
    "\n",
    "letter = string.ascii_uppercase[remainder]\n",
    "\n",
    "\n",
    "# outcome\n",
    "print(letter)"
   ]
  },
  {
   "cell_type": "code",
   "execution_count": 71,
   "id": "82450987",
   "metadata": {},
   "outputs": [
    {
     "name": "stdout",
     "output_type": "stream",
     "text": [
      "x\n"
     ]
    }
   ],
   "source": [
    "import datetime\n",
    "import string\n",
    "\n",
    "# define date\n",
    "date1 = datetime.date(2023, 2, 24)\n",
    "date2 = datetime.date(2023, 2, 21)\n",
    "\n",
    "# difference between 2 dates, and get remainder\n",
    "delta = (date1 - date2).days -1\n",
    "remainder = delta % 26\n",
    "\n",
    "letters = ['a', 'b', 'c', 'd', 'e', 'f', 'g', 'h', 'i', 'j', 'k', 'l', 'm', 'n', 'o', 'p', 'q', 'r', 's', 't', 'u', 'v', 'w', 'x', 'y', 'z']\n",
    "letters.reverse()\n",
    "\n",
    "# outcome\n",
    "print(letters[remainder])"
   ]
  },
  {
   "cell_type": "code",
   "execution_count": 85,
   "id": "fc85fd9b",
   "metadata": {},
   "outputs": [
    {
     "name": "stdout",
     "output_type": "stream",
     "text": [
      "C C I i s B e s t\n"
     ]
    }
   ],
   "source": [
    "import datetime\n",
    "import string\n",
    "\n",
    "# define date\n",
    "date1 = datetime.date(2023, 2, 24)\n",
    "date2 = datetime.date(3198,4,15)\n",
    "date3 = datetime.date(8048,12,10)\n",
    "date4 = datetime.date(4123,3,21)\n",
    "\n",
    "date5 = datetime.date(1063,10,21)\n",
    "date6 = datetime.date(1258,8,31)\n",
    "\n",
    "date7 = datetime.date(2166,7,9)\n",
    "date8 = datetime.date(1875,5,19)\n",
    "date9 = datetime.date(1949,9,26)\n",
    "date10 = datetime.date(2019,4,15)\n",
    "\n",
    "# difference between 2 dates, and get remainder\n",
    "delta1 = (date2 - date1).days\n",
    "delta2 = (date3 - date1).days\n",
    "delta3 = (date4 - date1).days\n",
    "delta6 = (date7 - date1).days\n",
    "remainder1 = delta1 % 26\n",
    "remainder2 = delta2 % 26\n",
    "remainder3 = delta3 % 26\n",
    "remainder6 = delta6 % 26\n",
    "\n",
    "letter1 = string.ascii_uppercase[remainder1]\n",
    "letter2 = string.ascii_uppercase[remainder2]\n",
    "letter3 = string.ascii_uppercase[remainder3]\n",
    "letter6 = string.ascii_uppercase[remainder6]\n",
    "\n",
    "# difference between 2 dates, and get remainder\n",
    "delta4 = (date1 - date5).days -1\n",
    "delta5 = (date1 - date6).days -1\n",
    "delta7 = (date1 - date8).days -1\n",
    "delta8 = (date1 - date9).days -1\n",
    "delta9 = (date1 - date10).days -1\n",
    "remainder4 = delta4 % 26\n",
    "remainder5 = delta5 % 26\n",
    "remainder7 = delta7 % 26\n",
    "remainder8 = delta8 % 26\n",
    "remainder9 = delta9 % 26\n",
    "\n",
    "letters = ['a', 'b', 'c', 'd', 'e', 'f', 'g', 'h', 'i', 'j', 'k', 'l', 'm', 'n', 'o', 'p', 'q', 'r', 's', 't', 'u', 'v', 'w', 'x', 'y', 'z']\n",
    "letters.reverse()\n",
    "\n",
    "\n",
    "# outcome\n",
    "print(letter1,letter2,letter3,letters[remainder4],letters[remainder5],letter6,letters[remainder7],letters[remainder8],letters[remainder9])"
   ]
  },
  {
   "cell_type": "code",
   "execution_count": null,
   "id": "ed03b116",
   "metadata": {},
   "outputs": [],
   "source": []
  }
 ],
 "metadata": {
  "kernelspec": {
   "display_name": "Python 3 (ipykernel)",
   "language": "python",
   "name": "python3"
  },
  "language_info": {
   "codemirror_mode": {
    "name": "ipython",
    "version": 3
   },
   "file_extension": ".py",
   "mimetype": "text/x-python",
   "name": "python",
   "nbconvert_exporter": "python",
   "pygments_lexer": "ipython3",
   "version": "3.9.16"
  }
 },
 "nbformat": 4,
 "nbformat_minor": 5
}
